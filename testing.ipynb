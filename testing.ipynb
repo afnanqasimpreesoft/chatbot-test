{
 "cells": [
  {
   "cell_type": "code",
   "execution_count": null,
   "metadata": {
    "vscode": {
     "languageId": "plaintext"
    }
   },
   "outputs": [],
   "source": [
    "from huggingface_hub import hf_hub_download\n",
    "\n",
    "# Define the repository and filename\n",
    "repo_id = \"mikeyandfriends/PixelWave_FLUX.1-dev_03\"\n",
    "filename = \"pixelwave_flux1_dev_Q4_K_M_03.gguf\"\n",
    "\n",
    "# Download the file\n",
    "model_path = hf_hub_download(repo_id=repo_id, filename=filename)\n",
    "\n",
    "print(f\"Model downloaded to: {model_path}\")\n"
   ]
  }
 ],
 "metadata": {
  "language_info": {
   "name": "python"
  }
 },
 "nbformat": 4,
 "nbformat_minor": 2
}
